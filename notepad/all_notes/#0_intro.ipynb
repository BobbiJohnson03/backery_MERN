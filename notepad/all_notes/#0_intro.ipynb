{
 "cells": [
  {
   "cell_type": "markdown",
   "metadata": {},
   "source": [
    "## 🦩🦩 Tworzenie aplikacji webowej MERN from scratch 🦩🦩\n",
    "\n",
    "MERN = Mongodb + Express.js + React + Node.js\n",
    "\n",
    "pozwoli nam to utworzyć apkę zawierającą backend komunikujący się z frontendem, a to wszystko w jednym folderze"
   ]
  },
  {
   "attachments": {
    "image.png": {
     "image/png": "[encoded data removed]"
    }
   },
   "cell_type": "markdown",
   "metadata": {},
   "source": [
    "![image.png](attachment:image.png)"
   ]
  },
  {
   "cell_type": "markdown",
   "metadata": {},
   "source": [
    "CZĘŚĆ I - Server Setup "
   ]
  },
  {
   "cell_type": "markdown",
   "metadata": {},
   "source": [
    "1. Utworzenie aplikacji\n",
    "\n",
    "Pierwszym krokiem jest zainstalowanie na laptopie Node.js (przez przeglądarkę). Pozostałe narzędzia (React, Express.js, MongoDB extensions) możemy już pobrać w VSC.\n",
    "\n",
    "Następnie tworzymy folder, w którym będzie znajdowała się nasza aplikacja. Otwieramy ten folder w VSC. W folderze tworzymy dwa podfolery: frontend i backend.\n",
    "\n",
    "Następnie uruchamiamy terminal i musimy znajdywać się w ścieżce, gdzie jest ogólny folder projektu (ten pierwszy, który stworzyliśmy na samym początku). Będąc w tej ścieżce wpisujemy w terminal taką komendę:"
   ]
  },
  {
   "cell_type": "code",
   "execution_count": null,
   "metadata": {
    "vscode": {
     "languageId": "powershell"
    }
   },
   "outputs": [],
   "source": [
    "npm init -y"
   ]
  },
  {
   "cell_type": "markdown",
   "metadata": {},
   "source": [
    "Po utworzeniu się projektu wpisujemy kolejną komendę, która zainstaluje nam potrzebne narzędzia na rzecz tego projektu:"
   ]
  },
  {
   "cell_type": "code",
   "execution_count": null,
   "metadata": {
    "vscode": {
     "languageId": "powershell"
    }
   },
   "outputs": [],
   "source": [
    "npm install express mongoose dotenv"
   ]
  },
  {
   "cell_type": "markdown",
   "metadata": {},
   "source": [
    "Teraz przechodzimy do folderu backend, w którym tworzymy nowy plik o nazwie index.js lub server.js. My użyjemy server.js.\n",
    " Tworzymy taką zawartość dla tego pliku: "
   ]
  },
  {
   "cell_type": "code",
   "execution_count": null,
   "metadata": {
    "vscode": {
     "languageId": "javascript"
    }
   },
   "outputs": [],
   "source": [
    "//const express = require('express'); //tradycyjna forma tworzenia tego pliku\n",
    "\n",
    "import express from \"express\";\n",
    "\n",
    "const app = express();\n",
    "\n",
    "app.listen(5000, () => {\n",
    "  console.log(\"Server started at http://localhost:5000\");\n",
    "});\n"
   ]
  },
  {
   "cell_type": "markdown",
   "metadata": {},
   "source": [
    "Następnie musimy dokonać paru zmian w pliku package.json (który powinien znajdować się w folderze głównym). Po zmianach powinien on wyglądać tak: "
   ]
  },
  {
   "cell_type": "code",
   "execution_count": null,
   "metadata": {
    "vscode": {
     "languageId": "powershell"
    }
   },
   "outputs": [],
   "source": [
    "{\n",
    "    \"name\": \"backery_mern\",\n",
    "    \"version\": \"1.0.0\",\n",
    "    \"main\": \"index.js\",\n",
    "    \"scripts\": {\n",
    "      \"dev\": \"node backend/server.js\"\n",
    "    },\n",
    "    \"type\": \"module\",\n",
    "    \"keywords\": [],\n",
    "    \"author\": \"\",\n",
    "    \"license\": \"ISC\",\n",
    "    \"description\": \"\",\n",
    "    \"dependencies\": {\n",
    "      \"dotenv\": \"^16.4.5\",\n",
    "      \"express\": \"^4.21.1\",\n",
    "      \"mongoose\": \"^8.7.3\"\n",
    "    }\n",
    "  }\n",
    "  "
   ]
  },
  {
   "cell_type": "markdown",
   "metadata": {},
   "source": [
    "Teraz możemy zapisać wszystkie pliki, które edytowaliśmy, otworzyć terminal i uruchomić naszą aplikację:"
   ]
  },
  {
   "cell_type": "code",
   "execution_count": null,
   "metadata": {
    "vscode": {
     "languageId": "powershell"
    }
   },
   "outputs": [],
   "source": [
    "npm run dev"
   ]
  },
  {
   "cell_type": "markdown",
   "metadata": {},
   "source": [
    "Aby zatrzymać działanie aplikacji wpisujemy w terminal ctr + C. Naszym kolejnym krokiem będzie dodanie takiego skryptu do terminala: "
   ]
  },
  {
   "cell_type": "code",
   "execution_count": null,
   "metadata": {
    "vscode": {
     "languageId": "powershell"
    }
   },
   "outputs": [],
   "source": [
    "npm i nodemon -D"
   ]
  },
  {
   "cell_type": "markdown",
   "metadata": {},
   "source": [
    "Po czym wchodzimy w package.json. Zmieniamy tutaj naszą komendę która jest pod scripts/dev z node ... na nodemon backend/server.js. Zapisujemy zmiany. Poniżej plik jak powinien wyglądać po tej zmianie: "
   ]
  },
  {
   "cell_type": "code",
   "execution_count": null,
   "metadata": {
    "vscode": {
     "languageId": "powershell"
    }
   },
   "outputs": [],
   "source": [
    "{\n",
    "    \"name\": \"backery_mern\",\n",
    "    \"version\": \"1.0.0\",\n",
    "    \"main\": \"index.js\",\n",
    "    \"scripts\": {\n",
    "      \"dev\": \"nodemon backend/server.js\"\n",
    "    },\n",
    "    \"type\": \"module\",\n",
    "    \"keywords\": [],\n",
    "    \"author\": \"\",\n",
    "    \"license\": \"ISC\",\n",
    "    \"description\": \"\",\n",
    "    \"dependencies\": {\n",
    "      \"dotenv\": \"^16.4.5\",\n",
    "      \"express\": \"^4.21.1\",\n",
    "      \"mongoose\": \"^8.7.3\"\n",
    "    },\n",
    "    \"devDependencies\": {\n",
    "      \"nodemon\": \"^3.1.7\"\n",
    "    }\n",
    "  }\n"
   ]
  },
  {
   "cell_type": "markdown",
   "metadata": {},
   "source": [
    "Ta zmiana umożliwia nam to, że gdy za każdym razem zmienimy coś w projekcie i będzie on cały czas uruchomiony, to zmiany wprowadzą się automatycznie. \n",
    "Przykład:\n",
    "Po zapisaniu pliku json uruchamiamy ponownie naszą aplikację (w terminalu wpisujemy npm run dev). Wyświetli nam się wiadomość zwrotna coś w tym stylu: "
   ]
  },
  {
   "cell_type": "code",
   "execution_count": null,
   "metadata": {
    "vscode": {
     "languageId": "powershell"
    }
   },
   "outputs": [],
   "source": [
    "PS C:\\Users\\luiza\\OneDrive\\Pulpit\\backery_MERN> npm run dev\n",
    "\n",
    "> backery_mern@1.0.0 dev\n",
    "> nodemon backend/server.js\n",
    "\n",
    "[nodemon] 3.1.7\n",
    "[nodemon] to restart at any time, enter `rs`\n",
    "[nodemon] watching path(s): *.*\n",
    "[nodemon] watching extensions: js,mjs,cjs,json\n",
    "[nodemon] starting `node backend/server.js`\n",
    "Server started at http://localhost:5000"
   ]
  },
  {
   "cell_type": "markdown",
   "metadata": {},
   "source": [
    "Teraz pozostawiamy aplikację włączoną i zedytujmy plik server.js:"
   ]
  },
  {
   "cell_type": "code",
   "execution_count": null,
   "metadata": {
    "vscode": {
     "languageId": "powershell"
    }
   },
   "outputs": [],
   "source": [
    "//const express = require('express'); //tradycyjna forma tworzenia tego pliku\n",
    "\n",
    "import express from \"express\";\n",
    "\n",
    "const app = express();\n",
    "\n",
    "app.listen(5000, () => {\n",
    "  console.log(\"Server started at http://localhost:5000 helloooooo\");\n",
    "});\n"
   ]
  },
  {
   "cell_type": "markdown",
   "metadata": {},
   "source": [
    "Po dopisaniu na końcu hellooooooo i kliknięciu ctr + s (zapisanie zmian w pliku server.js) zobaczymy, że w terminalu zmiany automatycznie zostały wprowadzone, nie musieliśmy zatrzymywać apki i ponownie jej uruchamiać, aby to się stało. W odpowiedzi dostajemy coś takiego: "
   ]
  },
  {
   "cell_type": "code",
   "execution_count": null,
   "metadata": {
    "vscode": {
     "languageId": "powershell"
    }
   },
   "outputs": [],
   "source": [
    "[nodemon] restarting due to changes...\n",
    "[nodemon] restarting due to changes...\n",
    "[nodemon] starting `node backend/server.js`\n",
    "Server started at http://localhost:5000 helloooooo"
   ]
  },
  {
   "cell_type": "markdown",
   "metadata": {},
   "source": [
    "No i tyle w tym etapie. Ta zmiana jest super przydatna ponieważ teraz możemy pracować bieżąco nad aplikacją i jedynie zapisywać zedytowane pliki, aby od razu móc zobaczyć zmiany w naszej aplikacji, które dokonaliśmy."
   ]
  },
  {
   "cell_type": "markdown",
   "metadata": {},
   "source": [
    "Ostatnim krokiem w tej części jest edycja pliku server.js i odpalenie apki w przeglądarce aby sprawdzić, czy wszystko śmiga."
   ]
  },
  {
   "cell_type": "code",
   "execution_count": null,
   "metadata": {
    "vscode": {
     "languageId": "javascript"
    }
   },
   "outputs": [],
   "source": [
    "//const express = require('express'); //tradycyjna forma tworzenia tego pliku\n",
    "\n",
    "import express from \"express\";\n",
    "\n",
    "const app = express();\n",
    "\n",
    "app.get(\"/\", (req, res) => {\n",
    "  res.send(\"Server śmigaaa\");\n",
    "});\n",
    "\n",
    "app.listen(5000, () => {\n",
    "  console.log(\"Server started at http://localhost:5000\");\n",
    "});\n"
   ]
  },
  {
   "cell_type": "markdown",
   "metadata": {},
   "source": [
    "W kolejnej części zajmiemy się utworzeniem bazy danych z MongoDB."
   ]
  }
 ],
 "metadata": {
  "language_info": {
   "name": "python"
  }
 },
 "nbformat": 4,
 "nbformat_minor": 2
}
